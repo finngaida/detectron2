{
 "cells": [
  {
   "cell_type": "code",
   "execution_count": 2,
   "outputs": [],
   "source": [
    "import torch\n",
    "import numpy as np\n",
    "from detectron2.config import get_cfg\n",
    "from detectron2.data.detection_utils import read_image\n",
    "from detectron2.engine.defaults import DefaultPredictor"
   ],
   "metadata": {
    "collapsed": false,
    "pycharm": {
     "name": "#%%\n",
     "is_executing": false
    }
   }
  },
  {
   "cell_type": "code",
   "execution_count": 3,
   "outputs": [],
   "source": [
    "cfg = get_cfg()\n",
    "cfg.merge_from_file('configs/COCO-InstanceSegmentation/mask_rcnn_R_50_FPN_3x.yaml')\n",
    "cfg.merge_from_list(['MODEL.DEVICE', 'cpu', \n",
    "                     'MODEL.WEIGHTS', 'detectron2://COCO-InstanceSegmentation/mask_rcnn_R_50_FPN_3x/137849600/model_final_f10217.pkl'])\n",
    "predictor = DefaultPredictor(cfg)"
   ],
   "metadata": {
    "collapsed": false,
    "pycharm": {
     "name": "#%%\n",
     "is_executing": false
    }
   }
  },
  {
   "cell_type": "code",
   "execution_count": 20,
   "outputs": [],
   "source": [
    "image = read_image(\"demo/input.jpg\", format=\"BGR\")\n",
    "predictions = predictor(image)"
   ],
   "metadata": {
    "collapsed": false,
    "pycharm": {
     "name": "#%%\n",
     "is_executing": false
    }
   }
  },
  {
   "cell_type": "code",
   "execution_count": 21,
   "outputs": [],
   "source": [
    "# Convert image from OpenCV BGR format to Matplotlib RGB format.\n",
    "image = image[:, :, ::-1]\n",
    "if not (\"instances\" in predictions):\n",
    "    exit(1)\n",
    "    \n",
    "instances = predictions[\"instances\"].to(torch.device(\"cpu\"))\n",
    "boxes = instances.pred_boxes if instances.has(\"pred_boxes\") else None\n",
    "scores = instances.scores if instances.has(\"scores\") else None\n",
    "classes = instances.pred_classes if instances.has(\"pred_classes\") else None\n",
    "#labels = _create_text_labels(classes, scores, self.metadata.get(\"thing_classes\", None))\n",
    "keypoints = instances.pred_keypoints if instances.has(\"pred_keypoints\") else None\n",
    "masks = np.asarray(instances.pred_masks) if instances.has(\"pred_masks\") else None"
   ],
   "metadata": {
    "collapsed": false,
    "pycharm": {
     "name": "#%%\n",
     "is_executing": false
    }
   }
  },
  {
   "cell_type": "code",
   "execution_count": null,
   "outputs": [],
   "source": [],
   "metadata": {
    "collapsed": false,
    "pycharm": {
     "name": "#%%\n"
    }
   }
  }
 ],
 "metadata": {
  "kernelspec": {
   "display_name": "Python 3",
   "language": "python",
   "name": "python3"
  },
  "language_info": {
   "codemirror_mode": {
    "name": "ipython",
    "version": 2
   },
   "file_extension": ".py",
   "mimetype": "text/x-python",
   "name": "python",
   "nbconvert_exporter": "python",
   "pygments_lexer": "ipython2",
   "version": "2.7.6"
  },
  "pycharm": {
   "stem_cell": {
    "cell_type": "raw",
    "source": [],
    "metadata": {
     "collapsed": false
    }
   }
  }
 },
 "nbformat": 4,
 "nbformat_minor": 0
}